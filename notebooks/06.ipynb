{
 "cells": [
  {
   "cell_type": "code",
   "execution_count": 1,
   "metadata": {
    "collapsed": true
   },
   "outputs": [],
   "source": [
    "import pandas as pd\n",
    "\n",
    "import matplotlib.pyplot as plt\n",
    "%matplotlib inline\n",
    "\n",
    "import numpy as np\n",
    "\n",
    "from datetime import datetime, timedelta\n",
    "\n",
    "import pylab"
   ]
  },
  {
   "cell_type": "code",
   "execution_count": 2,
   "metadata": {
    "collapsed": true
   },
   "outputs": [],
   "source": [
    "datapath = '../data/'"
   ]
  },
  {
   "cell_type": "code",
   "execution_count": 3,
   "metadata": {},
   "outputs": [
    {
     "data": {
      "text/plain": [
       "'../data/FC3DC207-9459-4CBE-8AB5-0E0AC77D5FEC.csv'"
      ]
     },
     "execution_count": 3,
     "metadata": {},
     "output_type": "execute_result"
    }
   ],
   "source": [
    "import glob\n",
    "files = glob.glob(datapath+'*.csv')\n",
    "files[0]"
   ]
  },
  {
   "cell_type": "code",
   "execution_count": 4,
   "metadata": {
    "collapsed": true
   },
   "outputs": [],
   "source": [
    "dfs = [pd.read_csv(f) for f in files]\n",
    "dfs[1] = dfs[1].rename(columns={\" timestamp \": \"timestamp\"})"
   ]
  },
  {
   "cell_type": "code",
   "execution_count": 5,
   "metadata": {},
   "outputs": [
    {
     "data": {
      "text/html": [
       "<div>\n",
       "<style>\n",
       "    .dataframe thead tr:only-child th {\n",
       "        text-align: right;\n",
       "    }\n",
       "\n",
       "    .dataframe thead th {\n",
       "        text-align: left;\n",
       "    }\n",
       "\n",
       "    .dataframe tbody tr th {\n",
       "        vertical-align: top;\n",
       "    }\n",
       "</style>\n",
       "<table border=\"1\" class=\"dataframe\">\n",
       "  <thead>\n",
       "    <tr style=\"text-align: right;\">\n",
       "      <th></th>\n",
       "      <th>timestamp</th>\n",
       "      <th>type</th>\n",
       "      <th>lat</th>\n",
       "      <th>lon</th>\n",
       "      <th>height</th>\n",
       "      <th>accuracy</th>\n",
       "      <th>speed</th>\n",
       "      <th>bearing</th>\n",
       "      <th>x</th>\n",
       "      <th>y</th>\n",
       "      <th>z</th>\n",
       "      <th>mag</th>\n",
       "      <th>time</th>\n",
       "    </tr>\n",
       "  </thead>\n",
       "  <tbody>\n",
       "    <tr>\n",
       "      <th>0</th>\n",
       "      <td>1.431035e+12</td>\n",
       "      <td>gps</td>\n",
       "      <td>41.978753</td>\n",
       "      <td>-87.893018</td>\n",
       "      <td>194.760063</td>\n",
       "      <td>10.0</td>\n",
       "      <td>14.36</td>\n",
       "      <td>139.570312</td>\n",
       "      <td>NaN</td>\n",
       "      <td>NaN</td>\n",
       "      <td>NaN</td>\n",
       "      <td>NaN</td>\n",
       "      <td>2015-05-07 21:46:58.761430</td>\n",
       "    </tr>\n",
       "    <tr>\n",
       "      <th>1</th>\n",
       "      <td>1.431035e+12</td>\n",
       "      <td>accelerometer</td>\n",
       "      <td>NaN</td>\n",
       "      <td>NaN</td>\n",
       "      <td>NaN</td>\n",
       "      <td>NaN</td>\n",
       "      <td>NaN</td>\n",
       "      <td>NaN</td>\n",
       "      <td>-0.075974</td>\n",
       "      <td>-0.448395</td>\n",
       "      <td>-0.867188</td>\n",
       "      <td>0.979206</td>\n",
       "      <td>2015-05-07 21:46:58.834430</td>\n",
       "    </tr>\n",
       "    <tr>\n",
       "      <th>2</th>\n",
       "      <td>1.431035e+12</td>\n",
       "      <td>accelerometer</td>\n",
       "      <td>NaN</td>\n",
       "      <td>NaN</td>\n",
       "      <td>NaN</td>\n",
       "      <td>NaN</td>\n",
       "      <td>NaN</td>\n",
       "      <td>NaN</td>\n",
       "      <td>-0.079025</td>\n",
       "      <td>-0.435837</td>\n",
       "      <td>-0.919876</td>\n",
       "      <td>1.020966</td>\n",
       "      <td>2015-05-07 21:46:58.932430</td>\n",
       "    </tr>\n",
       "    <tr>\n",
       "      <th>3</th>\n",
       "      <td>1.431035e+12</td>\n",
       "      <td>accelerometer</td>\n",
       "      <td>NaN</td>\n",
       "      <td>NaN</td>\n",
       "      <td>NaN</td>\n",
       "      <td>NaN</td>\n",
       "      <td>NaN</td>\n",
       "      <td>NaN</td>\n",
       "      <td>-0.069183</td>\n",
       "      <td>-0.456039</td>\n",
       "      <td>-0.921722</td>\n",
       "      <td>1.030694</td>\n",
       "      <td>2015-05-07 21:46:59.030430</td>\n",
       "    </tr>\n",
       "    <tr>\n",
       "      <th>4</th>\n",
       "      <td>1.431035e+12</td>\n",
       "      <td>accelerometer</td>\n",
       "      <td>NaN</td>\n",
       "      <td>NaN</td>\n",
       "      <td>NaN</td>\n",
       "      <td>NaN</td>\n",
       "      <td>NaN</td>\n",
       "      <td>NaN</td>\n",
       "      <td>-0.059341</td>\n",
       "      <td>-0.456772</td>\n",
       "      <td>-0.896149</td>\n",
       "      <td>1.007593</td>\n",
       "      <td>2015-05-07 21:46:59.129430</td>\n",
       "    </tr>\n",
       "  </tbody>\n",
       "</table>\n",
       "</div>"
      ],
      "text/plain": [
       "      timestamp           type        lat        lon      height  accuracy  \\\n",
       "0  1.431035e+12            gps  41.978753 -87.893018  194.760063      10.0   \n",
       "1  1.431035e+12  accelerometer        NaN        NaN         NaN       NaN   \n",
       "2  1.431035e+12  accelerometer        NaN        NaN         NaN       NaN   \n",
       "3  1.431035e+12  accelerometer        NaN        NaN         NaN       NaN   \n",
       "4  1.431035e+12  accelerometer        NaN        NaN         NaN       NaN   \n",
       "\n",
       "   speed     bearing         x         y         z       mag  \\\n",
       "0  14.36  139.570312       NaN       NaN       NaN       NaN   \n",
       "1    NaN         NaN -0.075974 -0.448395 -0.867188  0.979206   \n",
       "2    NaN         NaN -0.079025 -0.435837 -0.919876  1.020966   \n",
       "3    NaN         NaN -0.069183 -0.456039 -0.921722  1.030694   \n",
       "4    NaN         NaN -0.059341 -0.456772 -0.896149  1.007593   \n",
       "\n",
       "                        time  \n",
       "0 2015-05-07 21:46:58.761430  \n",
       "1 2015-05-07 21:46:58.834430  \n",
       "2 2015-05-07 21:46:58.932430  \n",
       "3 2015-05-07 21:46:59.030430  \n",
       "4 2015-05-07 21:46:59.129430  "
      ]
     },
     "execution_count": 5,
     "metadata": {},
     "output_type": "execute_result"
    }
   ],
   "source": [
    "for df in dfs:\n",
    "    df['mag'] = np.sqrt(df['x']**2+df['y']**2+df['z']**2)\n",
    "    df['time'] = pd.to_datetime(df['timestamp'], unit='ms')\n",
    "dfs[0].head(5)"
   ]
  },
  {
   "cell_type": "code",
   "execution_count": 6,
   "metadata": {
    "collapsed": true
   },
   "outputs": [],
   "source": [
    "def prepare_dfs(dfs,window):\n",
    "    sorted_dfs = []\n",
    "    rolling_mean = []\n",
    "    rolling_std = []\n",
    "    for df in dfs:\n",
    "        _temp = df.sort_values(by='time')\n",
    "        _temp = _temp.set_index(['time'])\n",
    "\n",
    "        _mean = _temp.rolling(window).mean()\n",
    "        _std = _temp.rolling(window).std()\n",
    "    \n",
    "        sorted_dfs.append(_temp)\n",
    "        rolling_mean.append(_mean)\n",
    "        rolling_std.append(_std)\n",
    "    \n",
    "    return sorted_dfs, rolling_mean, rolling_std\n",
    "\n",
    "\n"
   ]
  },
  {
   "cell_type": "code",
   "execution_count": null,
   "metadata": {
    "collapsed": true
   },
   "outputs": [],
   "source": []
  },
  {
   "cell_type": "code",
   "execution_count": 7,
   "metadata": {
    "collapsed": true
   },
   "outputs": [],
   "source": [
    "def Find_events(dfs, variable, window):\n",
    "    events_df = pd.DataFrame()\n",
    "    drivers = []\n",
    "    for i in range(0,25):\n",
    "        test = dfs[i].sort_values(by='time')\n",
    "        test = test.set_index(['time'])\n",
    "\n",
    "        test2 = test.rolling(window).mean()\n",
    "        test2_std = test.rolling(window).std()\n",
    "\n",
    "        for j in range(0,len(test.index)):\n",
    "            if test[variable][j] > (test2[variable][j]+(2.9*test2_std[variable][j])):\n",
    "                if test[variable][j] > (test[variable].mean()+(5.0*test[variable].std())):\n",
    "                    print(i,test2.index[j],test[variable][j],test2[variable][j],test2_std[variable][j],test[variable].max(),test[variable].mean(),test[variable].std() )\n",
    "                    events_df = events_df.append(test.iloc[j])\n",
    "                    drivers.append(i)\n",
    "    events_df['driver']=drivers\n",
    "    return events_df\n",
    "                "
   ]
  },
  {
   "cell_type": "code",
   "execution_count": null,
   "metadata": {
    "collapsed": true
   },
   "outputs": [],
   "source": []
  },
  {
   "cell_type": "code",
   "execution_count": 8,
   "metadata": {
    "collapsed": true
   },
   "outputs": [],
   "source": [
    "def Gather_info(event, dfs, gps, time):\n",
    "    \n",
    "    speed_mean_before=[]\n",
    "    speed_mean_after =[]\n",
    "    acc_mean_before=[]\n",
    "    acc_mean_after =[]    \n",
    "    distance_sum_after = []\n",
    "    bearing_range_before = []\n",
    "    bearing_range_after = []\n",
    "    \n",
    "    for i in range(0,len(event.index)):\n",
    "        \n",
    "        before = dfs[event.driver[i]][ (dfs[event.driver[i]].index> (event.index[i]-timedelta(seconds=time) )) & \n",
    "                       (dfs[event.driver[i]].index< (event.index[i]))]\n",
    "\n",
    "        after = dfs[event.driver[i]][ (dfs[event.driver[i]].index> (event.index[i])) & \n",
    "                       (dfs[event.driver[i]].index< (event.index[i]+timedelta(seconds=time) ))]\n",
    "        \n",
    "        speed_mean_before.append(before.speed.mean())\n",
    "        speed_mean_after.append(after.speed.mean())\n",
    "        acc_mean_before.append(before.mag.mean())\n",
    "        acc_mean_after.append(after.mag.mean())\n",
    "        \n",
    "        \n",
    "        gps_after = gps[event.driver[i]][ gps[event.driver[i]].index> (event.index[i])]\n",
    "        distance_sum_after.append(gps_after.distance.sum())\n",
    "        \n",
    "        gps_before = gps[event.driver[i]][ (gps[event.driver[i]].index> (event.index[i]-timedelta(seconds=10) )) & \n",
    "                       (gps[event.driver[i]].index< (event.index[i]))]\n",
    "        \n",
    "        gps_after = gps[event.driver[i]][ (gps[event.driver[i]].index> (event.index[i])) & \n",
    "                       (gps[event.driver[i]].index< (event.index[i]+timedelta(seconds=10) ))]\n",
    "        \n",
    "        bearing_range_before.append(gps_before.bearing.max() - gps_before.bearing.min())\n",
    "        bearing_range_after.append(gps_after.bearing.max() - gps_after.bearing.min())\n",
    "        if event.driver[i] == 3:\n",
    "            print(gps_before.bearing.max(),gps_before.bearing.min())\n",
    "            print(gps_after.bearing.max(),gps_after.bearing.min())\n",
    "            print(bearing_range_before, bearing_range_after)\n",
    "        \n",
    "        \n",
    "    event['speed_before'] = speed_mean_before\n",
    "    event['speed_after']  = speed_mean_after     \n",
    "    event['mag_before']   = acc_mean_before    \n",
    "    event['mag_after']    = acc_mean_after\n",
    "    event['distance_after'] = distance_sum_after\n",
    "    event['bearing_before'] = bearing_range_before\n",
    "    event['bearing_after'] = bearing_range_after\n",
    "    \n",
    "    return event\n",
    "    \n",
    "    \n",
    "    "
   ]
  },
  {
   "cell_type": "code",
   "execution_count": null,
   "metadata": {
    "collapsed": true
   },
   "outputs": [],
   "source": []
  },
  {
   "cell_type": "code",
   "execution_count": 9,
   "metadata": {
    "collapsed": true
   },
   "outputs": [],
   "source": [
    "def Plot_crash(event, raw_profile, rolling_mean):\n",
    "    f, ((ax1, ax2), (ax3, ax4)) = plt.subplots(2, 2, figsize=(9,9))\n",
    "    \n",
    "    ax1.plot(raw_profile.index,raw_profile.mag)\n",
    "    ax1.plot(rolling_mean.index, rolling_mean.mag)\n",
    "    ax1.plot(event.index,event.mag, marker='*',markersize=20,c='k')\n",
    " \n",
    "    ax2.plot(raw_profile.index,raw_profile.mag)\n",
    "    ax2.plot(rolling_mean.index, rolling_mean.mag)\n",
    "    ax2.plot(event.index,event.mag, marker='*',markersize=20,c='k')\n",
    "    ax2.set_xlim([event.index - timedelta(seconds=30),event.index + timedelta(seconds=30)])\n",
    "             \n",
    "    speed_df = raw_profile[['speed','lat','lon','height']].dropna(axis=0)\n",
    "    ax3.plot(speed_df.index,speed_df.speed)\n",
    "    ax3.plot([event.index,event.index],[speed_df.speed.min(),speed_df.speed.max()],c='k')\n",
    "    \n",
    "    ax4.plot(speed_df.index,speed_df.speed)\n",
    "    ax4.plot([event.index,event.index],[speed_df.speed.min(),speed_df.speed.max()],c='k')\n",
    "    ax4.set_xlim([event.index - timedelta(seconds=30),event.index + timedelta(seconds=30)])\n",
    "    \n",
    "    ax4.text(event.index+timedelta(seconds=5), speed_df.speed.max()-1, event.speed_before[0])\n",
    "    ax4.text(event.index+timedelta(seconds=5), speed_df.speed.max()-3, event.speed_after[0])\n",
    "    ax4.text(event.index+timedelta(seconds=5), speed_df.speed.max()-5, event.mag_before[0])\n",
    "    ax4.text(event.index+timedelta(seconds=5), speed_df.speed.max()-7, event.mag_after[0])\n",
    "    \n",
    "    \n",
    "    \n",
    "    \n",
    "    plt.show()"
   ]
  },
  {
   "cell_type": "code",
   "execution_count": 10,
   "metadata": {
    "collapsed": true
   },
   "outputs": [],
   "source": [
    "def Calc_distance(dfs):\n",
    "    new_df = []\n",
    "    for df in dfs:\n",
    "        _df = df[['lat','lon','bearing']].dropna(axis=0)\n",
    "        distance = []\n",
    "        distance.append(0.)\n",
    "        summed_distance = []\n",
    "        summed_distance.append(0.)\n",
    "        for i in range(1,len(_df.index)):\n",
    "            lat1 = _df.lat.iloc[i-1]\n",
    "            lat2 = _df.lat.iloc[i]\n",
    "            lon1 = _df.lon.iloc[i-1]\n",
    "            lon2 = _df.lon.iloc[i]\n",
    "\n",
    "            a = (np.sin((lat2 - lat1)/2))**2 + (np.cos(lat1) * np.cos(lat2) * (np.sin((lon2 - lon1)/2))**2)\n",
    "            c = 2 * np.arctan2(np.sqrt(a),np.sqrt(1 - a))\n",
    "            #sofar = np.sum(distance)\n",
    "            d = (6371.0*c)\n",
    "            distance.append(d)\n",
    "            summed_distance.append(d + summed_distance[i-1])\n",
    "        _df['distance'] = distance\n",
    "        _df['summed_distance'] = summed_distance\n",
    "        new_df.append(_df)\n",
    "    return new_df\n",
    "        "
   ]
  },
  {
   "cell_type": "code",
   "execution_count": 11,
   "metadata": {},
   "outputs": [
    {
     "name": "stdout",
     "output_type": "stream",
     "text": [
      "0 2015-05-07 21:51:56.474430 2.54167704146 1.17974123545 0.45567960114 3.07437785147 1.0252136609824674 0.15636141511869553\n",
      "1 2015-06-20 22:22:47.640070 1.8141591553 1.06003345821 0.257170416316 2.08899488177 1.0000514440092911 0.07058346365538637\n",
      "3 2015-03-29 16:49:19.847200 6.19279813334 1.39232124893 1.61349417437 8.17820442838 1.0148427262151816 0.22484109289041454\n",
      "4 2015-04-20 22:48:51.953430 2.03850173609 1.08464944084 0.322948850671 2.03850173609 1.0114027795450182 0.10232779309330343\n",
      "6 2015-03-19 21:32:49.043870 2.58414834802 1.0708769514 0.512740383164 7.49083739885 1.0310558508151255 0.29910192886533754\n",
      "6 2015-03-19 21:36:22.383870 2.53515295875 1.13820692773 0.480446886636 7.49083739885 1.0310558508151255 0.29910192886533754\n",
      "6 2015-03-19 21:39:51.137870 2.61012842349 1.19344632947 0.482099134015 7.49083739885 1.0310558508151255 0.29910192886533754\n",
      "7 2015-04-13 21:15:43.407980 2.27768156958 1.09696841471 0.397023563022 7.87947406308 1.0154665043115036 0.18138339003605158\n",
      "7 2015-04-13 21:15:45.453980 4.61601831348 1.43068535036 1.08698267658 7.87947406308 1.0154665043115036 0.18138339003605158\n",
      "7 2015-04-13 21:21:08.665980 7.87947406308 1.47093177705 2.1406166421 7.87947406308 1.0154665043115036 0.18138339003605158\n",
      "8 2015-06-23 20:38:20.664510 1.40080520223 1.01832124607 0.129792392251 3.27960769465 1.0086214970635985 0.07816726427227004\n",
      "8 2015-06-23 20:59:41.216510 3.27960769465 1.1939029525 0.704220345989 3.27960769465 1.0086214970635985 0.07816726427227004\n",
      "8 2015-06-23 21:01:09.499510 1.42759186332 1.00818555697 0.1429554231 3.27960769465 1.0086214970635985 0.07816726427227004\n",
      "10 2015-06-20 20:35:20.896120 5.02708796193 1.29797781354 1.25137656673 7.53591375767 1.0012670093424914 0.09666070356679585\n",
      "10 2015-06-20 20:35:41.114120 7.53591375767 1.52122122717 2.02459617147 7.53591375767 1.0012670093424914 0.09666070356679585\n",
      "10 2015-06-20 20:45:50.268120 1.58132623717 1.01764050184 0.188417673687 7.53591375767 1.0012670093424914 0.09666070356679585\n",
      "10 2015-06-20 20:51:31.474120 1.77520996022 1.05162125838 0.245803637386 7.53591375767 1.0012670093424914 0.09666070356679585\n",
      "10 2015-06-20 20:55:57.826120 2.86325248522 1.10732410511 0.595901408721 7.53591375767 1.0012670093424914 0.09666070356679585\n",
      "11 2015-06-24 16:47:33.709000 4.3835231685 1.29313549669 1.03662191061 8.31088170278 1.0108245282831234 0.16329734169136015\n",
      "11 2015-06-24 16:48:06.734000 2.06536171627 1.10105799958 0.320811800599 8.31088170278 1.0108245282831234 0.16329734169136015\n",
      "13 2015-04-03 01:52:18.935260 3.62496876761 1.22715231419 0.812029302401 5.96537532942 1.0441776017722568 0.28864097449482634\n",
      "13 2015-04-03 01:55:12.872260 3.92911465043 1.27699330499 0.879712183876 5.96537532942 1.0441776017722568 0.28864097449482634\n",
      "15 2015-04-20 01:28:56.284670 1.68243036071 1.06304047764 0.20611834135 4.26981875626 1.0050070129919566 0.08309097942215946\n",
      "17 2015-05-14 00:42:28.877900 3.03599578822 1.17298028595 0.488961078462 3.75436053967 1.0284409608615348 0.2360091972900687\n",
      "20 2015-06-18 12:32:29.150130 1.97599232768 1.06678556214 0.309572346095 2.64093953634 1.0039679141434383 0.07250826861818559\n",
      "20 2015-06-18 12:34:49.498130 1.49664800061 1.06565786204 0.145576215776 2.64093953634 1.0039679141434383 0.07250826861818559\n",
      "21 2015-03-16 16:05:00.480690 1.68657756864 1.07026068239 0.211468080225 6.48419029435 1.0054869878268058 0.0997942801310464\n",
      "21 2015-03-16 16:09:29.263690 5.7494606444 1.41748243827 1.45524136467 6.48419029435 1.0054869878268058 0.0997942801310464\n",
      "21 2015-03-16 16:11:14.301690 6.48419029435 1.50767701379 1.66053642694 6.48419029435 1.0054869878268058 0.0997942801310464\n",
      "23 2015-05-12 18:28:33.755110 2.78029611179 1.05102738009 0.587785151313 4.77366504831 1.033425330132297 0.20571067267913742\n",
      "23 2015-05-12 18:29:17.578110 4.75393331999 1.26729386378 1.20135590205 4.77366504831 1.033425330132297 0.20571067267913742\n",
      "23 2015-05-12 18:29:48.672110 4.54431878407 1.32971179321 1.07440646405 4.77366504831 1.033425330132297 0.20571067267913742\n",
      "23 2015-05-12 18:32:08.753110 2.64693820889 1.15886354508 0.498479761585 4.77366504831 1.033425330132297 0.20571067267913742\n",
      "24 2015-05-17 16:02:04.529600 1.54646006132 1.06284004269 0.164660183373 2.34334195409 1.0037631082889007 0.0754920804611185\n",
      "24 2015-05-17 16:04:23.392600 2.34334195409 1.14391664585 0.398124444097 2.34334195409 1.0037631082889007 0.0754920804611185\n",
      "24 2015-05-17 16:07:40.892600 1.75867015944 1.06945816508 0.228593682628 2.34334195409 1.0037631082889007 0.0754920804611185\n",
      "24 2015-05-17 16:08:21.698600 1.42019316151 1.03503756257 0.127743383423 2.34334195409 1.0037631082889007 0.0754920804611185\n",
      "269.6484375 266.484375\n",
      "274.921875 18.28125\n",
      "[0.703125, 0.0, 3.1640625] [5.9765625, 85.4296875, 256.640625]\n"
     ]
    }
   ],
   "source": [
    "new_dfs = Calc_distance(dfs)\n",
    "sorted_dfs, rolling_mean, rolling_std = prepare_dfs(dfs,'1s')\n",
    "gps_dfs = Calc_distance(sorted_dfs)\n",
    "event = Find_events(dfs,'mag','1s')\n",
    "event = Gather_info(event, sorted_dfs, gps_dfs, 30)"
   ]
  },
  {
   "cell_type": "code",
   "execution_count": null,
   "metadata": {
    "collapsed": true
   },
   "outputs": [],
   "source": []
  },
  {
   "cell_type": "code",
   "execution_count": null,
   "metadata": {
    "collapsed": true
   },
   "outputs": [],
   "source": []
  },
  {
   "cell_type": "code",
   "execution_count": null,
   "metadata": {
    "collapsed": true
   },
   "outputs": [],
   "source": []
  },
  {
   "cell_type": "code",
   "execution_count": 12,
   "metadata": {
    "collapsed": true
   },
   "outputs": [],
   "source": [
    "def Plot_crash(event, raw_profile, rolling_mean, gps_dfs):\n",
    "    f, ((ax1, ax2), (ax3, ax4), (ax5, ax6)) = plt.subplots(3, 2, figsize=(9,13.5))\n",
    "    \n",
    "    ax1.plot(raw_profile.index,raw_profile.mag)\n",
    "    ax1.plot(rolling_mean.index, rolling_mean.mag)\n",
    "    ax1.plot(event.index,event.mag, marker='*',markersize=20,c='k')\n",
    "    ax1.set_title(\"Acceleration - Full profile\")\n",
    " \n",
    "    ax2.plot(raw_profile.index,raw_profile.mag)\n",
    "    ax2.plot(rolling_mean.index, rolling_mean.mag)\n",
    "    ax2.plot(event.index,event.mag, marker='*',markersize=20,c='k')\n",
    "    ax2.set_xlim([event.index - timedelta(seconds=30),event.index + timedelta(seconds=30)])\n",
    "    ax2.set_title(\"Acceleration - -30sec to +30sec of event\")\n",
    "             \n",
    "    speed_df = raw_profile[['speed','lat','lon','height']].dropna(axis=0)\n",
    "    ax3.plot(speed_df.index,speed_df.speed)\n",
    "    ax3.plot([event.index,event.index],[speed_df.speed.min(),speed_df.speed.max()],c='k')\n",
    "    ax3.set_title(\"Speed - Full profile\")\n",
    "    \n",
    "    ax4.plot(speed_df.index,speed_df.speed)\n",
    "    ax4.plot([event.index,event.index],[speed_df.speed.min(),speed_df.speed.max()],c='k')\n",
    "    ax4.set_xlim([event.index - timedelta(seconds=30),event.index + timedelta(seconds=30)])\n",
    "    ax4.set_title(\"Speed - -30sec to +30sec of event\")\n",
    "    \n",
    "    ax4.text(event.index+timedelta(seconds=5), speed_df.speed.max()-1, event.speed_before[0])\n",
    "    ax4.text(event.index+timedelta(seconds=5), speed_df.speed.max()-3, event.speed_after[0])\n",
    "    ax4.text(event.index+timedelta(seconds=5), speed_df.speed.max()-5, event.mag_before[0])\n",
    "    ax4.text(event.index+timedelta(seconds=5), speed_df.speed.max()-7, event.mag_after[0])\n",
    "    \n",
    "    ax5.plot(gps_dfs.index, gps_dfs.distance)\n",
    "    ax5.plot([event.index,event.index],[gps_dfs.distance.min(),gps_dfs.distance.max()],c='k')\n",
    "    ax5.set_title(\"Distance - Full profile\")\n",
    "    ax5.set_xlim([event.index - timedelta(seconds=30),gps_dfs.index.max()])\n",
    "    ax5.text(event.index+timedelta(seconds=5), gps_dfs.distance.max(), event.distance_after[0])\n",
    "    \n",
    "    #ax6.plot(gps_dfs.index, gps_dfs.distance)\n",
    "    #ax6.plot([event.index,event.index],[gps_dfs.distance.min(),gps_dfs.distance.max()],c='k')\n",
    "    #ax6.set_xlim([event.index - timedelta(seconds=30),gps_dfs.index.max()])\n",
    "    \n",
    "    ax6.plot(gps_dfs.index, gps_dfs.bearing)\n",
    "    ax6.plot([event.index,event.index],[gps_dfs.bearing.min(),gps_dfs.bearing.max()],c='k')\n",
    "    ax6.set_xlim([event.index - timedelta(seconds=30),event.index + timedelta(seconds=30)])\n",
    "    ax6.set_title(\"Bearing - -30sec to +30sec of event\")\n",
    "    ax6.text(event.index+timedelta(seconds=5), 250, event.bearing_before[0])\n",
    "    ax6.text(event.index+timedelta(seconds=5), 230, event.bearing_after[0])\n",
    "    \n",
    "    pylab.savefig('../figs/'+str(event.iloc[0:1].driver[0])+'_'+str(i)+'.png', bbox_inches=0)\n",
    "    plt.close()\n",
    "    \n",
    "    \n",
    "    \n",
    "    \n",
    "    #plt.show()"
   ]
  },
  {
   "cell_type": "code",
   "execution_count": 13,
   "metadata": {
    "collapsed": true
   },
   "outputs": [],
   "source": [
    "#for i in range(0,len(event.index)):\n",
    "#    Plot_crash(event.iloc[i:i+1],sorted_dfs[event.driver[i]], rolling_mean[event.driver[i]], gps_dfs[event.driver[i]])\n",
    "\n"
   ]
  },
  {
   "cell_type": "code",
   "execution_count": null,
   "metadata": {
    "collapsed": true
   },
   "outputs": [],
   "source": []
  },
  {
   "cell_type": "code",
   "execution_count": null,
   "metadata": {
    "collapsed": true
   },
   "outputs": [],
   "source": []
  },
  {
   "cell_type": "code",
   "execution_count": 14,
   "metadata": {},
   "outputs": [
    {
     "name": "stdout",
     "output_type": "stream",
     "text": [
      "<class 'pandas.core.frame.DataFrame'>\n",
      "DatetimeIndex: 37 entries, 2015-05-07 21:51:56.474430 to 2015-05-17 16:08:21.698600\n",
      "Data columns (total 20 columns):\n",
      "accuracy          0 non-null float64\n",
      "bearing           0 non-null float64\n",
      "height            0 non-null float64\n",
      "lat               0 non-null float64\n",
      "lon               0 non-null float64\n",
      "mag               37 non-null float64\n",
      "speed             0 non-null float64\n",
      "timestamp         37 non-null float64\n",
      "type              37 non-null object\n",
      "x                 37 non-null float64\n",
      "y                 37 non-null float64\n",
      "z                 37 non-null float64\n",
      "driver            37 non-null int64\n",
      "speed_before      35 non-null float64\n",
      "speed_after       34 non-null float64\n",
      "mag_before        37 non-null float64\n",
      "mag_after         37 non-null float64\n",
      "distance_after    37 non-null float64\n",
      "bearing_before    33 non-null float64\n",
      "bearing_after     33 non-null float64\n",
      "dtypes: float64(18), int64(1), object(1)\n",
      "memory usage: 7.3+ KB\n"
     ]
    }
   ],
   "source": [
    "event.info()"
   ]
  },
  {
   "cell_type": "code",
   "execution_count": 15,
   "metadata": {},
   "outputs": [
    {
     "name": "stdout",
     "output_type": "stream",
     "text": [
      "<class 'pandas.core.frame.DataFrame'>\n",
      "DatetimeIndex: 17 entries, 2015-05-07 21:51:56.474430 to 2015-05-17 16:04:23.392600\n",
      "Data columns (total 20 columns):\n",
      "accuracy          0 non-null float64\n",
      "bearing           0 non-null float64\n",
      "height            0 non-null float64\n",
      "lat               0 non-null float64\n",
      "lon               0 non-null float64\n",
      "mag               17 non-null float64\n",
      "speed             0 non-null float64\n",
      "timestamp         17 non-null float64\n",
      "type              17 non-null object\n",
      "x                 17 non-null float64\n",
      "y                 17 non-null float64\n",
      "z                 17 non-null float64\n",
      "driver            17 non-null int64\n",
      "speed_before      17 non-null float64\n",
      "speed_after       17 non-null float64\n",
      "mag_before        17 non-null float64\n",
      "mag_after         17 non-null float64\n",
      "distance_after    17 non-null float64\n",
      "bearing_before    17 non-null float64\n",
      "bearing_after     17 non-null float64\n",
      "dtypes: float64(18), int64(1), object(1)\n",
      "memory usage: 2.8+ KB\n"
     ]
    }
   ],
   "source": [
    "event[event.speed_before>event.speed_after].info()"
   ]
  },
  {
   "cell_type": "code",
   "execution_count": 16,
   "metadata": {},
   "outputs": [
    {
     "name": "stdout",
     "output_type": "stream",
     "text": [
      "<class 'pandas.core.frame.DataFrame'>\n",
      "DatetimeIndex: 3 entries, 2015-03-29 16:49:19.847200 to 2015-06-20 20:55:57.826120\n",
      "Data columns (total 20 columns):\n",
      "accuracy          0 non-null float64\n",
      "bearing           0 non-null float64\n",
      "height            0 non-null float64\n",
      "lat               0 non-null float64\n",
      "lon               0 non-null float64\n",
      "mag               3 non-null float64\n",
      "speed             0 non-null float64\n",
      "timestamp         3 non-null float64\n",
      "type              3 non-null object\n",
      "x                 3 non-null float64\n",
      "y                 3 non-null float64\n",
      "z                 3 non-null float64\n",
      "driver            3 non-null int64\n",
      "speed_before      3 non-null float64\n",
      "speed_after       3 non-null float64\n",
      "mag_before        3 non-null float64\n",
      "mag_after         3 non-null float64\n",
      "distance_after    3 non-null float64\n",
      "bearing_before    3 non-null float64\n",
      "bearing_after     3 non-null float64\n",
      "dtypes: float64(18), int64(1), object(1)\n",
      "memory usage: 504.0+ bytes\n"
     ]
    }
   ],
   "source": [
    "event[(event.speed_before>event.speed_after) & (event.distance_after<10) & ((event.bearing_after - event.bearing_before)>100)].info()"
   ]
  },
  {
   "cell_type": "code",
   "execution_count": null,
   "metadata": {
    "collapsed": true
   },
   "outputs": [],
   "source": []
  },
  {
   "cell_type": "code",
   "execution_count": null,
   "metadata": {
    "collapsed": true
   },
   "outputs": [],
   "source": []
  },
  {
   "cell_type": "code",
   "execution_count": 17,
   "metadata": {
    "collapsed": true
   },
   "outputs": [],
   "source": [
    "#event_cut = event[(event.speed_before>event.speed_after) & (event.distance_after<10) & ((event.bearing_after - event.bearing_before)>100)]"
   ]
  },
  {
   "cell_type": "code",
   "execution_count": 18,
   "metadata": {
    "collapsed": true
   },
   "outputs": [],
   "source": [
    "event_cut = event[(event.speed_before>event.speed_after) & (event.distance_after<10) & ((event.bearing_after - event.bearing_before)>100)]\n",
    "for i in range(0,len(event_cut.index)):\n",
    "    Plot_crash(event_cut.iloc[i:i+1],sorted_dfs[event_cut.driver[i]], rolling_mean[event_cut.driver[i]], gps_dfs[event_cut.driver[i]])\n",
    "\n",
    "\n"
   ]
  },
  {
   "cell_type": "code",
   "execution_count": null,
   "metadata": {
    "collapsed": true
   },
   "outputs": [],
   "source": []
  }
 ],
 "metadata": {
  "kernelspec": {
   "display_name": "Python 3",
   "language": "python",
   "name": "python3"
  },
  "language_info": {
   "codemirror_mode": {
    "name": "ipython",
    "version": 3
   },
   "file_extension": ".py",
   "mimetype": "text/x-python",
   "name": "python",
   "nbconvert_exporter": "python",
   "pygments_lexer": "ipython3",
   "version": "3.6.1"
  }
 },
 "nbformat": 4,
 "nbformat_minor": 2
}
