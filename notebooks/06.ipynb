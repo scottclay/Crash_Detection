{
 "cells": [
  {
   "cell_type": "code",
   "execution_count": 1,
   "metadata": {
    "collapsed": true
   },
   "outputs": [],
   "source": [
    "import pandas as pd\n",
    "\n",
    "import matplotlib.pyplot as plt\n",
    "%matplotlib inline\n",
    "\n",
    "import numpy as np\n",
    "\n",
    "from datetime import datetime, timedelta\n",
    "\n",
    "import pylab"
   ]
  },
  {
   "cell_type": "code",
   "execution_count": 2,
   "metadata": {
    "collapsed": true
   },
   "outputs": [],
   "source": [
    "datapath = '../data/'"
   ]
  },
  {
   "cell_type": "code",
   "execution_count": 3,
   "metadata": {},
   "outputs": [
    {
     "data": {
      "text/plain": [
       "'../data/FC3DC207-9459-4CBE-8AB5-0E0AC77D5FEC.csv'"
      ]
     },
     "execution_count": 3,
     "metadata": {},
     "output_type": "execute_result"
    }
   ],
   "source": [
    "import glob\n",
    "files = glob.glob(datapath+'*.csv')\n",
    "files[0]"
   ]
  },
  {
   "cell_type": "code",
   "execution_count": 4,
   "metadata": {
    "collapsed": true
   },
   "outputs": [],
   "source": [
    "dfs = [pd.read_csv(f) for f in files]\n",
    "dfs[1] = dfs[1].rename(columns={\" timestamp \": \"timestamp\"})"
   ]
  },
  {
   "cell_type": "code",
   "execution_count": 5,
   "metadata": {},
   "outputs": [
    {
     "data": {
      "text/html": [
       "<div>\n",
       "<style>\n",
       "    .dataframe thead tr:only-child th {\n",
       "        text-align: right;\n",
       "    }\n",
       "\n",
       "    .dataframe thead th {\n",
       "        text-align: left;\n",
       "    }\n",
       "\n",
       "    .dataframe tbody tr th {\n",
       "        vertical-align: top;\n",
       "    }\n",
       "</style>\n",
       "<table border=\"1\" class=\"dataframe\">\n",
       "  <thead>\n",
       "    <tr style=\"text-align: right;\">\n",
       "      <th></th>\n",
       "      <th>timestamp</th>\n",
       "      <th>type</th>\n",
       "      <th>lat</th>\n",
       "      <th>lon</th>\n",
       "      <th>height</th>\n",
       "      <th>accuracy</th>\n",
       "      <th>speed</th>\n",
       "      <th>bearing</th>\n",
       "      <th>x</th>\n",
       "      <th>y</th>\n",
       "      <th>z</th>\n",
       "      <th>mag</th>\n",
       "      <th>time</th>\n",
       "    </tr>\n",
       "  </thead>\n",
       "  <tbody>\n",
       "    <tr>\n",
       "      <th>0</th>\n",
       "      <td>1.431035e+12</td>\n",
       "      <td>gps</td>\n",
       "      <td>41.978753</td>\n",
       "      <td>-87.893018</td>\n",
       "      <td>194.760063</td>\n",
       "      <td>10.0</td>\n",
       "      <td>14.36</td>\n",
       "      <td>139.570312</td>\n",
       "      <td>NaN</td>\n",
       "      <td>NaN</td>\n",
       "      <td>NaN</td>\n",
       "      <td>NaN</td>\n",
       "      <td>2015-05-07 21:46:58.761430</td>\n",
       "    </tr>\n",
       "    <tr>\n",
       "      <th>1</th>\n",
       "      <td>1.431035e+12</td>\n",
       "      <td>accelerometer</td>\n",
       "      <td>NaN</td>\n",
       "      <td>NaN</td>\n",
       "      <td>NaN</td>\n",
       "      <td>NaN</td>\n",
       "      <td>NaN</td>\n",
       "      <td>NaN</td>\n",
       "      <td>-0.075974</td>\n",
       "      <td>-0.448395</td>\n",
       "      <td>-0.867188</td>\n",
       "      <td>0.979206</td>\n",
       "      <td>2015-05-07 21:46:58.834430</td>\n",
       "    </tr>\n",
       "    <tr>\n",
       "      <th>2</th>\n",
       "      <td>1.431035e+12</td>\n",
       "      <td>accelerometer</td>\n",
       "      <td>NaN</td>\n",
       "      <td>NaN</td>\n",
       "      <td>NaN</td>\n",
       "      <td>NaN</td>\n",
       "      <td>NaN</td>\n",
       "      <td>NaN</td>\n",
       "      <td>-0.079025</td>\n",
       "      <td>-0.435837</td>\n",
       "      <td>-0.919876</td>\n",
       "      <td>1.020966</td>\n",
       "      <td>2015-05-07 21:46:58.932430</td>\n",
       "    </tr>\n",
       "    <tr>\n",
       "      <th>3</th>\n",
       "      <td>1.431035e+12</td>\n",
       "      <td>accelerometer</td>\n",
       "      <td>NaN</td>\n",
       "      <td>NaN</td>\n",
       "      <td>NaN</td>\n",
       "      <td>NaN</td>\n",
       "      <td>NaN</td>\n",
       "      <td>NaN</td>\n",
       "      <td>-0.069183</td>\n",
       "      <td>-0.456039</td>\n",
       "      <td>-0.921722</td>\n",
       "      <td>1.030694</td>\n",
       "      <td>2015-05-07 21:46:59.030430</td>\n",
       "    </tr>\n",
       "    <tr>\n",
       "      <th>4</th>\n",
       "      <td>1.431035e+12</td>\n",
       "      <td>accelerometer</td>\n",
       "      <td>NaN</td>\n",
       "      <td>NaN</td>\n",
       "      <td>NaN</td>\n",
       "      <td>NaN</td>\n",
       "      <td>NaN</td>\n",
       "      <td>NaN</td>\n",
       "      <td>-0.059341</td>\n",
       "      <td>-0.456772</td>\n",
       "      <td>-0.896149</td>\n",
       "      <td>1.007593</td>\n",
       "      <td>2015-05-07 21:46:59.129430</td>\n",
       "    </tr>\n",
       "  </tbody>\n",
       "</table>\n",
       "</div>"
      ],
      "text/plain": [
       "      timestamp           type        lat        lon      height  accuracy  \\\n",
       "0  1.431035e+12            gps  41.978753 -87.893018  194.760063      10.0   \n",
       "1  1.431035e+12  accelerometer        NaN        NaN         NaN       NaN   \n",
       "2  1.431035e+12  accelerometer        NaN        NaN         NaN       NaN   \n",
       "3  1.431035e+12  accelerometer        NaN        NaN         NaN       NaN   \n",
       "4  1.431035e+12  accelerometer        NaN        NaN         NaN       NaN   \n",
       "\n",
       "   speed     bearing         x         y         z       mag  \\\n",
       "0  14.36  139.570312       NaN       NaN       NaN       NaN   \n",
       "1    NaN         NaN -0.075974 -0.448395 -0.867188  0.979206   \n",
       "2    NaN         NaN -0.079025 -0.435837 -0.919876  1.020966   \n",
       "3    NaN         NaN -0.069183 -0.456039 -0.921722  1.030694   \n",
       "4    NaN         NaN -0.059341 -0.456772 -0.896149  1.007593   \n",
       "\n",
       "                        time  \n",
       "0 2015-05-07 21:46:58.761430  \n",
       "1 2015-05-07 21:46:58.834430  \n",
       "2 2015-05-07 21:46:58.932430  \n",
       "3 2015-05-07 21:46:59.030430  \n",
       "4 2015-05-07 21:46:59.129430  "
      ]
     },
     "execution_count": 5,
     "metadata": {},
     "output_type": "execute_result"
    }
   ],
   "source": [
    "for df in dfs:\n",
    "    df['mag'] = np.sqrt(df['x']**2+df['y']**2+df['z']**2)\n",
    "    df['time'] = pd.to_datetime(df['timestamp'], unit='ms')\n",
    "dfs[0].head(5)"
   ]
  },
  {
   "cell_type": "code",
   "execution_count": 6,
   "metadata": {
    "collapsed": true
   },
   "outputs": [],
   "source": [
    "def prepare_dfs(dfs,window):\n",
    "    sorted_dfs = []\n",
    "    rolling_mean = []\n",
    "    rolling_std = []\n",
    "    for df in dfs:\n",
    "        _temp = df.sort_values(by='time')\n",
    "        _temp = _temp.set_index(['time'])\n",
    "\n",
    "        _mean = _temp.rolling(window).mean()\n",
    "        _std = _temp.rolling(window).std()\n",
    "    \n",
    "        sorted_dfs.append(_temp)\n",
    "        rolling_mean.append(_mean)\n",
    "        rolling_std.append(_std)\n",
    "    \n",
    "    return sorted_dfs, rolling_mean, rolling_std\n",
    "\n",
    "\n"
   ]
  },
  {
   "cell_type": "code",
   "execution_count": null,
   "metadata": {
    "collapsed": true
   },
   "outputs": [],
   "source": []
  },
  {
   "cell_type": "code",
   "execution_count": 7,
   "metadata": {
    "collapsed": true
   },
   "outputs": [],
   "source": [
    "def Find_events(dfs, variable, window):\n",
    "    events_df = pd.DataFrame()\n",
    "    drivers = []\n",
    "    for i in range(0,25):\n",
    "        test = dfs[i].sort_values(by='time')\n",
    "        test = test.set_index(['time'])\n",
    "\n",
    "        test2 = test.rolling(window).mean()\n",
    "        test2_std = test.rolling(window).std()\n",
    "\n",
    "        orig_df = dfs[i][['time',variable]]\n",
    "        orig_df = orig_df.set_index(['time'])\n",
    "        orig_df_plot = orig_df.dropna(axis=0,how='any')\n",
    "\n",
    "\n",
    "        for j in range(0,len(test.index)):\n",
    "            if test[variable][j] > (test2[variable][j]+(2.9*test2_std[variable][j])):\n",
    "                #print(i,test2.index[j])\n",
    "                events_df = events_df.append(test.iloc[j])\n",
    "                drivers.append(i)\n",
    "    events_df['driver']=drivers\n",
    "    return events_df\n",
    "                "
   ]
  },
  {
   "cell_type": "code",
   "execution_count": null,
   "metadata": {
    "collapsed": true
   },
   "outputs": [],
   "source": []
  },
  {
   "cell_type": "code",
   "execution_count": 8,
   "metadata": {},
   "outputs": [],
   "source": [
    "def Gather_info(event, dfs, gps, time):\n",
    "    \n",
    "    speed_mean_before=[]\n",
    "    speed_mean_after =[]\n",
    "    acc_mean_before=[]\n",
    "    acc_mean_after =[]    \n",
    "    distance_sum_after = []\n",
    "    bearing_range_before = []\n",
    "    bearing_range_after = []\n",
    "    \n",
    "    for i in range(0,len(event.index)):\n",
    "        \n",
    "        before = dfs[event.driver[i]][ (dfs[event.driver[i]].index> (event.index[i]-timedelta(seconds=time) )) & \n",
    "                       (dfs[event.driver[i]].index< (event.index[i]))]\n",
    "\n",
    "        after = dfs[event.driver[i]][ (dfs[event.driver[i]].index> (event.index[i])) & \n",
    "                       (dfs[event.driver[i]].index< (event.index[i]+timedelta(seconds=time) ))]\n",
    "        \n",
    "        speed_mean_before.append(before.speed.mean())\n",
    "        speed_mean_after.append(after.speed.mean())\n",
    "        acc_mean_before.append(before.mag.mean())\n",
    "        acc_mean_after.append(after.mag.mean())\n",
    "        \n",
    "        \n",
    "        gps_after = gps[event.driver[i]][ gps[event.driver[i]].index> (event.index[i])]\n",
    "        distance_sum_after.append(gps_after.distance.sum())\n",
    "        \n",
    "        gps_before = gps[event.driver[i]][ (gps[event.driver[i]].index> (event.index[i]-timedelta(seconds=time) )) & \n",
    "                       (gps[event.driver[i]].index< (event.index[i]))]\n",
    "        \n",
    "        gps_after = gps[event.driver[i]][ (gps[event.driver[i]].index> (event.index[i])) & \n",
    "                       (gps[event.driver[i]].index< (event.index[i]+timedelta(seconds=time) ))]\n",
    "        \n",
    "        bearing_range_before.append(gps_before.bearing.max() - gps_before.bearing.min())\n",
    "        bearing_range_after.append(gps_after.bearing.max() - gps_after.bearing.min())\n",
    "        if event.driver[i] == 3:\n",
    "            print(gps_before.bearing.max(),gps_before.bearing.min())\n",
    "            print(gps_after.bearing.max(),gps_after.bearing.min())\n",
    "            print(bearing_range_before, bearing_range_after)\n",
    "        \n",
    "        \n",
    "    event['speed_before'] = speed_mean_before\n",
    "    event['speed_after']  = speed_mean_after     \n",
    "    event['mag_before']   = acc_mean_before    \n",
    "    event['mag_after']    = acc_mean_after\n",
    "    event['distance_after'] = distance_sum_after\n",
    "    event['bearing_before'] = bearing_range_before\n",
    "    event['bearing_after'] = bearing_range_after\n",
    "    \n",
    "    return event\n",
    "    \n",
    "    \n",
    "    "
   ]
  },
  {
   "cell_type": "code",
   "execution_count": null,
   "metadata": {},
   "outputs": [],
   "source": []
  },
  {
   "cell_type": "code",
   "execution_count": 9,
   "metadata": {
    "collapsed": true
   },
   "outputs": [],
   "source": [
    "def Plot_crash(event, raw_profile, rolling_mean):\n",
    "    f, ((ax1, ax2), (ax3, ax4)) = plt.subplots(2, 2, figsize=(9,9))\n",
    "    \n",
    "    ax1.plot(raw_profile.index,raw_profile.mag)\n",
    "    ax1.plot(rolling_mean.index, rolling_mean.mag)\n",
    "    ax1.plot(event.index,event.mag, marker='*',markersize=20,c='k')\n",
    " \n",
    "    ax2.plot(raw_profile.index,raw_profile.mag)\n",
    "    ax2.plot(rolling_mean.index, rolling_mean.mag)\n",
    "    ax2.plot(event.index,event.mag, marker='*',markersize=20,c='k')\n",
    "    ax2.set_xlim([event.index - timedelta(seconds=30),event.index + timedelta(seconds=30)])\n",
    "             \n",
    "    speed_df = raw_profile[['speed','lat','lon','height']].dropna(axis=0)\n",
    "    ax3.plot(speed_df.index,speed_df.speed)\n",
    "    ax3.plot([event.index,event.index],[speed_df.speed.min(),speed_df.speed.max()],c='k')\n",
    "    \n",
    "    ax4.plot(speed_df.index,speed_df.speed)\n",
    "    ax4.plot([event.index,event.index],[speed_df.speed.min(),speed_df.speed.max()],c='k')\n",
    "    ax4.set_xlim([event.index - timedelta(seconds=30),event.index + timedelta(seconds=30)])\n",
    "    \n",
    "    ax4.text(event.index+timedelta(seconds=5), speed_df.speed.max()-1, event.speed_before[0])\n",
    "    ax4.text(event.index+timedelta(seconds=5), speed_df.speed.max()-3, event.speed_after[0])\n",
    "    ax4.text(event.index+timedelta(seconds=5), speed_df.speed.max()-5, event.mag_before[0])\n",
    "    ax4.text(event.index+timedelta(seconds=5), speed_df.speed.max()-7, event.mag_after[0])\n",
    "    \n",
    "    \n",
    "    \n",
    "    \n",
    "    plt.show()"
   ]
  },
  {
   "cell_type": "code",
   "execution_count": null,
   "metadata": {},
   "outputs": [],
   "source": [
    "def Calc_distance(dfs):\n",
    "    new_df = []\n",
    "    for df in dfs:\n",
    "        _df = df[['lat','lon','bearing']].dropna(axis=0)\n",
    "        distance = []\n",
    "        distance.append(0.)\n",
    "        summed_distance = []\n",
    "        summed_distance.append(0.)\n",
    "        for i in range(1,len(_df.index)):\n",
    "            lat1 = _df.lat.iloc[i-1]\n",
    "            lat2 = _df.lat.iloc[i]\n",
    "            lon1 = _df.lon.iloc[i-1]\n",
    "            lon2 = _df.lon.iloc[i]\n",
    "\n",
    "            a = (np.sin((lat2 - lat1)/2))**2 + (np.cos(lat1) * np.cos(lat2) * (np.sin((lon2 - lon1)/2))**2)\n",
    "            c = 2 * np.arctan2(np.sqrt(a),np.sqrt(1 - a))\n",
    "            #sofar = np.sum(distance)\n",
    "            d = (6371.0*c)\n",
    "            distance.append(d)\n",
    "            summed_distance.append(d + summed_distance[i-1])\n",
    "        _df['distance'] = distance\n",
    "        _df['summed_distance'] = summed_distance\n",
    "        new_df.append(_df)\n",
    "    return new_df\n",
    "        "
   ]
  },
  {
   "cell_type": "code",
   "execution_count": null,
   "metadata": {},
   "outputs": [],
   "source": [
    "new_dfs = Calc_distance(dfs)\n",
    "sorted_dfs, rolling_mean, rolling_std = prepare_dfs(dfs,'1s')\n",
    "gps_dfs = Calc_distance(sorted_dfs)\n",
    "event = Find_events(dfs,'mag','1s')\n",
    "event = Gather_info(event, sorted_dfs, gps_dfs, 30)"
   ]
  },
  {
   "cell_type": "code",
   "execution_count": null,
   "metadata": {},
   "outputs": [],
   "source": []
  },
  {
   "cell_type": "code",
   "execution_count": null,
   "metadata": {
    "collapsed": true
   },
   "outputs": [],
   "source": []
  },
  {
   "cell_type": "code",
   "execution_count": null,
   "metadata": {},
   "outputs": [],
   "source": []
  },
  {
   "cell_type": "code",
   "execution_count": null,
   "metadata": {},
   "outputs": [],
   "source": [
    "def Plot_crash(event, raw_profile, rolling_mean, gps_dfs):\n",
    "    f, ((ax1, ax2), (ax3, ax4), (ax5, ax6)) = plt.subplots(3, 2, figsize=(9,13.5))\n",
    "    \n",
    "    ax1.plot(raw_profile.index,raw_profile.mag)\n",
    "    ax1.plot(rolling_mean.index, rolling_mean.mag)\n",
    "    ax1.plot(event.index,event.mag, marker='*',markersize=20,c='k')\n",
    "    ax1.set_title(\"Acceleration - Full profile\")\n",
    " \n",
    "    ax2.plot(raw_profile.index,raw_profile.mag)\n",
    "    ax2.plot(rolling_mean.index, rolling_mean.mag)\n",
    "    ax2.plot(event.index,event.mag, marker='*',markersize=20,c='k')\n",
    "    ax2.set_xlim([event.index - timedelta(seconds=30),event.index + timedelta(seconds=30)])\n",
    "    ax2.set_title(\"Acceleration - -30sec to +30sec of event\")\n",
    "             \n",
    "    speed_df = raw_profile[['speed','lat','lon','height']].dropna(axis=0)\n",
    "    ax3.plot(speed_df.index,speed_df.speed)\n",
    "    ax3.plot([event.index,event.index],[speed_df.speed.min(),speed_df.speed.max()],c='k')\n",
    "    ax3.set_title(\"Speed - Full profile\")\n",
    "    \n",
    "    ax4.plot(speed_df.index,speed_df.speed)\n",
    "    ax4.plot([event.index,event.index],[speed_df.speed.min(),speed_df.speed.max()],c='k')\n",
    "    ax4.set_xlim([event.index - timedelta(seconds=30),event.index + timedelta(seconds=30)])\n",
    "    ax4.set_title(\"Speed - -30sec to +30sec of event\")\n",
    "    \n",
    "    ax4.text(event.index+timedelta(seconds=5), speed_df.speed.max()-1, event.speed_before[0])\n",
    "    ax4.text(event.index+timedelta(seconds=5), speed_df.speed.max()-3, event.speed_after[0])\n",
    "    ax4.text(event.index+timedelta(seconds=5), speed_df.speed.max()-5, event.mag_before[0])\n",
    "    ax4.text(event.index+timedelta(seconds=5), speed_df.speed.max()-7, event.mag_after[0])\n",
    "    \n",
    "    ax5.plot(gps_dfs.index, gps_dfs.distance)\n",
    "    ax5.plot([event.index,event.index],[gps_dfs.distance.min(),gps_dfs.distance.max()],c='k')\n",
    "    ax5.set_title(\"Distance - Full profile\")\n",
    "    ax5.set_xlim([event.index - timedelta(seconds=30),gps_dfs.index.max()])\n",
    "    ax5.text(event.index+timedelta(seconds=5), gps_dfs.distance.max(), event.distance_after[0])\n",
    "    \n",
    "    #ax6.plot(gps_dfs.index, gps_dfs.distance)\n",
    "    #ax6.plot([event.index,event.index],[gps_dfs.distance.min(),gps_dfs.distance.max()],c='k')\n",
    "    #ax6.set_xlim([event.index - timedelta(seconds=30),gps_dfs.index.max()])\n",
    "    \n",
    "    ax6.plot(gps_dfs.index, gps_dfs.bearing)\n",
    "    ax6.plot([event.index,event.index],[gps_dfs.bearing.min(),gps_dfs.bearing.max()],c='k')\n",
    "    ax6.set_xlim([event.index - timedelta(seconds=30),event.index + timedelta(seconds=30)])\n",
    "    ax6.set_title(\"Bearing - -30sec to +30sec of event\")\n",
    "    ax6.text(event.index+timedelta(seconds=5), 250, event.bearing_before[0])\n",
    "    ax6.text(event.index+timedelta(seconds=5), 230, event.bearing_after[0])\n",
    "    \n",
    "    pylab.savefig('../figs/'+str(event.iloc[0:1].driver[0])+'_'+str(i)+'.png', bbox_inches=0)\n",
    "    plt.close()\n",
    "    \n",
    "    \n",
    "    \n",
    "    \n",
    "    #plt.show()"
   ]
  },
  {
   "cell_type": "code",
   "execution_count": null,
   "metadata": {},
   "outputs": [],
   "source": [
    "for i in range(0,len(event.index)):\n",
    "    Plot_crash(event.iloc[i:i+1],sorted_dfs[event.driver[i]], rolling_mean[event.driver[i]], gps_dfs[event.driver[i]])\n",
    "\n"
   ]
  },
  {
   "cell_type": "code",
   "execution_count": null,
   "metadata": {},
   "outputs": [],
   "source": []
  },
  {
   "cell_type": "code",
   "execution_count": null,
   "metadata": {},
   "outputs": [],
   "source": []
  },
  {
   "cell_type": "code",
   "execution_count": null,
   "metadata": {},
   "outputs": [],
   "source": [
    "event.info()"
   ]
  },
  {
   "cell_type": "code",
   "execution_count": null,
   "metadata": {},
   "outputs": [],
   "source": [
    "event[event.speed_before>event.speed_after].info()"
   ]
  },
  {
   "cell_type": "code",
   "execution_count": null,
   "metadata": {},
   "outputs": [],
   "source": [
    "event[(event.speed_before>event.speed_after) & (event.distance_after<10) & ((event.bearing_after - event.bearing_before)>100)].info()"
   ]
  },
  {
   "cell_type": "code",
   "execution_count": null,
   "metadata": {
    "collapsed": true
   },
   "outputs": [],
   "source": []
  },
  {
   "cell_type": "code",
   "execution_count": null,
   "metadata": {
    "collapsed": true
   },
   "outputs": [],
   "source": []
  },
  {
   "cell_type": "code",
   "execution_count": null,
   "metadata": {},
   "outputs": [],
   "source": [
    "event_cut = event[(event.speed_before>event.speed_after) & (event.distance_after<10) & ((event.bearing_after - event.bearing_before)>100)]"
   ]
  },
  {
   "cell_type": "code",
   "execution_count": null,
   "metadata": {
    "collapsed": true
   },
   "outputs": [],
   "source": [
    "for i in range(0,len(event_cut.index)):\n",
    "    Plot_crash(event_cut.iloc[i:i+1],sorted_dfs[event_cut.driver[i]], rolling_mean[event_cut.driver[i]], gps_dfs[event_cut.driver[i]])\n",
    "\n",
    "\n"
   ]
  },
  {
   "cell_type": "code",
   "execution_count": null,
   "metadata": {
    "collapsed": true
   },
   "outputs": [],
   "source": []
  }
 ],
 "metadata": {
  "kernelspec": {
   "display_name": "Python 3",
   "language": "python",
   "name": "python3"
  },
  "language_info": {
   "codemirror_mode": {
    "name": "ipython",
    "version": 3
   },
   "file_extension": ".py",
   "mimetype": "text/x-python",
   "name": "python",
   "nbconvert_exporter": "python",
   "pygments_lexer": "ipython3",
   "version": "3.6.1"
  }
 },
 "nbformat": 4,
 "nbformat_minor": 2
}
